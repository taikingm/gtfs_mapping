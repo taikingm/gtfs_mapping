{
 "cells": [
  {
   "cell_type": "code",
   "execution_count": 39,
   "metadata": {},
   "outputs": [
    {
     "name": "stdout",
     "output_type": "stream",
     "text": [
      "The autoreload extension is already loaded. To reload it, use:\n",
      "  %reload_ext autoreload\n"
     ]
    }
   ],
   "source": [
    "import os\n",
    "import sys\n",
    "module_path = os.path.abspath(os.path.join('..'))\n",
    "if module_path not in sys.path:\n",
    "    sys.path.append(module_path)\n",
    "    \n",
    "\n",
    "from IPython.display import IFrame\n",
    "import pandas as pd\n",
    "import geopandas as gpd\n",
    "import matplotlib.pyplot as plt\n",
    "import numpy as np\n",
    "import missingno as msno\n",
    "import seaborn as sns\n",
    "import matplotlib.patches as patches\n",
    "import warnings\n",
    "import networkx as nx\n",
    "import osmnx as ox\n",
    "import requests\n",
    "import matplotlib.cm as cm\n",
    "import matplotlib.colors as colors\n",
    "ox.config(use_cache=True, log_console=True)\n",
    "warnings.filterwarnings('ignore')\n",
    "warnings.simplefilter('ignore')\n",
    "from IPython.display import IFrame\n",
    "from shapely.geometry import Point, LineString, shape\n",
    "\n",
    "\n",
    "%matplotlib inline\n",
    "%load_ext autoreload\n",
    "%autoreload 2"
   ]
  },
  {
   "cell_type": "code",
   "execution_count": 194,
   "metadata": {},
   "outputs": [],
   "source": [
    "import folium"
   ]
  },
  {
   "cell_type": "code",
   "execution_count": 208,
   "metadata": {},
   "outputs": [],
   "source": [
    "from bokeh.plotting import figure, output_file, show, output_notebook"
   ]
  },
  {
   "cell_type": "code",
   "execution_count": 202,
   "metadata": {},
   "outputs": [],
   "source": [
    "from bokeh.tile_providers import CARTODBPOSITRON, get_provider"
   ]
  },
  {
   "cell_type": "markdown",
   "metadata": {},
   "source": [
    "# Testing Out GTFS Data Visualization using NYC Ferry GTFS\n",
    "## NYC Ferry GTFS Contains:\n",
    "- agency.txt\n",
    "- routes.txt\n",
    "- shapes.txt\n",
    "- stops.txt\n",
    "- trips.txt\n",
    "\n",
    "With the above files from any GTFS data, I should be able to produce a quick transit map of any city which produces GTFS data.\n",
    "Reding in all data here:"
   ]
  },
  {
   "cell_type": "code",
   "execution_count": 195,
   "metadata": {},
   "outputs": [],
   "source": [
    "#Read in all necessary data from GTFS folder\n",
    "agency = pd.read_csv('ferry_gtfs/agency.txt')\n",
    "routes = pd.read_csv('ferry_gtfs/routes.txt')\n",
    "shapes = pd.read_csv('ferry_gtfs/shapes.txt')\n",
    "stops = pd.read_csv('ferry_gtfs/stops.txt')\n",
    "trips = pd.read_csv('ferry_gtfs/trips.txt')"
   ]
  },
  {
   "cell_type": "markdown",
   "metadata": {},
   "source": [
    "\n",
    "\n",
    "\n",
    "## Mapping the Stops\n",
    "GTFS Data contains coordinates for stops along all the lines."
   ]
  },
  {
   "cell_type": "code",
   "execution_count": 229,
   "metadata": {},
   "outputs": [],
   "source": [
    "#read in stops as gdf\n",
    "stops_gdf = gpd.GeoDataFrame(\n",
    "    stops,\n",
    "    crs=4326,\n",
    "    geometry = gpd.points_from_xy(stops.stop_lon, stops.stop_lat)\n",
    ")"
   ]
  },
  {
   "cell_type": "code",
   "execution_count": 28,
   "metadata": {},
   "outputs": [
    {
     "data": {
      "text/plain": [
       "<matplotlib.axes._subplots.AxesSubplot at 0x10b565490>"
      ]
     },
     "execution_count": 28,
     "metadata": {},
     "output_type": "execute_result"
    },
    {
     "data": {
      "image/png": "[encoded data removed]",
      "text/plain": [
       "<Figure size 432x288 with 1 Axes>"
      ]
     },
     "metadata": {
      "needs_background": "light"
     },
     "output_type": "display_data"
    }
   ],
   "source": [
    "stops_gdf.plot()"
   ]
  },
  {
   "cell_type": "code",
   "execution_count": 211,
   "metadata": {},
   "outputs": [
    {
     "data": {
      "text/html": [
       "<div>\n",
       "<style scoped>\n",
       "    .dataframe tbody tr th:only-of-type {\n",
       "        vertical-align: middle;\n",
       "    }\n",
       "\n",
       "    .dataframe tbody tr th {\n",
       "        vertical-align: top;\n",
       "    }\n",
       "\n",
       "    .dataframe thead th {\n",
       "        text-align: right;\n",
       "    }\n",
       "</style>\n",
       "<table border=\"1\" class=\"dataframe\">\n",
       "  <thead>\n",
       "    <tr style=\"text-align: right;\">\n",
       "      <th></th>\n",
       "      <th>stop_id</th>\n",
       "      <th>stop_code</th>\n",
       "      <th>stop_name</th>\n",
       "      <th>stop_lat</th>\n",
       "      <th>stop_lon</th>\n",
       "      <th>geometry</th>\n",
       "    </tr>\n",
       "  </thead>\n",
       "  <tbody>\n",
       "    <tr>\n",
       "      <th>11</th>\n",
       "      <td>37</td>\n",
       "      <td>NaN</td>\n",
       "      <td>Beach Channel Dr/B. 54th St</td>\n",
       "      <td>40.595183</td>\n",
       "      <td>-73.784752</td>\n",
       "      <td>POINT (-73.78475 40.59518)</td>\n",
       "    </tr>\n",
       "  </tbody>\n",
       "</table>\n",
       "</div>"
      ],
      "text/plain": [
       "    stop_id  stop_code                    stop_name   stop_lat   stop_lon  \\\n",
       "11       37        NaN  Beach Channel Dr/B. 54th St  40.595183 -73.784752   \n",
       "\n",
       "                      geometry  \n",
       "11  POINT (-73.78475 40.59518)  "
      ]
     },
     "execution_count": 211,
     "metadata": {},
     "output_type": "execute_result"
    }
   ],
   "source": [
    "stops_gdf.sample()"
   ]
  },
  {
   "cell_type": "markdown",
   "metadata": {},
   "source": [
    "### Stop Colors?"
   ]
  },
  {
   "cell_type": "markdown",
   "metadata": {},
   "source": [
    "\n",
    "\n",
    "## Mapping the Routes"
   ]
  },
  {
   "cell_type": "markdown",
   "metadata": {},
   "source": [
    "In order to map out the routes in a line, first I will need to convert points from shape.txt, merge routes.txt for route name and other info."
   ]
  },
  {
   "cell_type": "code",
   "execution_count": 271,
   "metadata": {
    "scrolled": true
   },
   "outputs": [],
   "source": [
    "# Create GeoDataFrame from Shapes.txt\n",
    "shapes_gdf = gpd.GeoDataFrame(\n",
    "    shapes,\n",
    "    crs=4326,\n",
    "    geometry = gpd.points_from_xy(shapes.shape_pt_lon, shapes.shape_pt_lat)\n",
    ")\n",
    "# Create Linestring out of shape_id and shape_pt_sequence\n",
    "shapes_gdf = shapes_gdf.groupby(['shape_id'])['geometry'].apply(lambda x: LineString(x.tolist()))\n",
    "shapes_gdf = gpd.GeoDataFrame(shapes_gdf2, geometry='geometry')\n",
    "\n",
    "#keeping trips infor only for each trips to take out trip_id\n",
    "trips_drop = trips.drop_duplicates(subset=['shape_id'])\n",
    "\n",
    "#merging trip_id on to shapes in order to merge into route.txt\n",
    "shape_merge = shapes_gdf.merge(trips_drop,left_on='shape_id', right_on='shape_id', how='outer')\n",
    "\n",
    "#dropping duplicate shapes to simplify route for this test\n",
    "shape_merge = shape_merge.drop_duplicates(subset=['route_id'])\n",
    "\n",
    "#Route lines merged with name, routes.txt\n",
    "shape_routes = shape_merge.merge(routes, left_on='route_id', right_on='route_id', how='inner')"
   ]
  },
  {
   "cell_type": "code",
   "execution_count": 275,
   "metadata": {},
   "outputs": [],
   "source": [
    "shape_routes.crs = {'init' :'epsg:4326'}"
   ]
  },
  {
   "cell_type": "markdown",
   "metadata": {},
   "source": [
    "## Preparing datasets to publish on a map"
   ]
  },
  {
   "cell_type": "markdown",
   "metadata": {},
   "source": [
    "### Converting files into GeoJson"
   ]
  },
  {
   "cell_type": "code",
   "execution_count": 232,
   "metadata": {},
   "outputs": [],
   "source": [
    "#stops, convert to 4326 in case it was in some other format\n",
    "sjson = stops_gdf.to_json()"
   ]
  },
  {
   "cell_type": "code",
   "execution_count": 245,
   "metadata": {
    "scrolled": true
   },
   "outputs": [
    {
     "name": "stdout",
     "output_type": "stream",
     "text": [
      "<class 'geopandas.geodataframe.GeoDataFrame'>\n",
      "RangeIndex: 48 entries, 0 to 47\n",
      "Data columns (total 6 columns):\n",
      " #   Column     Non-Null Count  Dtype   \n",
      "---  ------     --------------  -----   \n",
      " 0   stop_id    48 non-null     int64   \n",
      " 1   stop_code  15 non-null     float64 \n",
      " 2   stop_name  48 non-null     object  \n",
      " 3   stop_lat   48 non-null     float64 \n",
      " 4   stop_lon   48 non-null     float64 \n",
      " 5   geometry   48 non-null     geometry\n",
      "dtypes: float64(3), geometry(1), int64(1), object(1)\n",
      "memory usage: 2.4+ KB\n"
     ]
    }
   ],
   "source": [
    "stops_gdf.info()"
   ]
  },
  {
   "cell_type": "code",
   "execution_count": 247,
   "metadata": {},
   "outputs": [],
   "source": [
    "rjson = shape_routes.to_json()"
   ]
  },
  {
   "cell_type": "code",
   "execution_count": 307,
   "metadata": {},
   "outputs": [],
   "source": [
    "rjson = folium.GeoJson(shape_routes)"
   ]
  },
  {
   "cell_type": "code",
   "execution_count": 265,
   "metadata": {
    "scrolled": true
   },
   "outputs": [
    {
     "name": "stdout",
     "output_type": "stream",
     "text": [
      "<class 'geopandas.geodataframe.GeoDataFrame'>\n",
      "Int64Index: 9 entries, 0 to 8\n",
      "Data columns (total 14 columns):\n",
      " #   Column            Non-Null Count  Dtype   \n",
      "---  ------            --------------  -----   \n",
      " 0   shape_id          9 non-null      int64   \n",
      " 1   geometry          9 non-null      geometry\n",
      " 2   route_id          9 non-null      object  \n",
      " 3   service_id        9 non-null      float64 \n",
      " 4   trip_id           9 non-null      float64 \n",
      " 5   trip_headsign     9 non-null      object  \n",
      " 6   direction_id      9 non-null      float64 \n",
      " 7   block_id          9 non-null      float64 \n",
      " 8   agency_id         9 non-null      int64   \n",
      " 9   route_short_name  9 non-null      object  \n",
      " 10  route_long_name   9 non-null      object  \n",
      " 11  route_type        9 non-null      int64   \n",
      " 12  route_color       9 non-null      object  \n",
      " 13  route_text_color  9 non-null      object  \n",
      "dtypes: float64(4), geometry(1), int64(3), object(6)\n",
      "memory usage: 1.1+ KB\n"
     ]
    }
   ],
   "source": [
    "shape_routes.info()"
   ]
  },
  {
   "cell_type": "code",
   "execution_count": 308,
   "metadata": {},
   "outputs": [
    {
     "data": {
      "text/plain": [
       "folium.features.GeoJson"
      ]
     },
     "execution_count": 308,
     "metadata": {},
     "output_type": "execute_result"
    }
   ],
   "source": [
    "type(rjson)"
   ]
  },
  {
   "cell_type": "code",
   "execution_count": 310,
   "metadata": {},
   "outputs": [
    {
     "data": {
      "text/plain": [
       "<folium.features.GeoJson at 0x13a4f3c10>"
      ]
     },
     "execution_count": 310,
     "metadata": {},
     "output_type": "execute_result"
    }
   ],
   "source": [
    "rjson"
   ]
  },
  {
   "cell_type": "markdown",
   "metadata": {},
   "source": [
    "### Getting the centroid of the stops for starting point of the map"
   ]
  },
  {
   "cell_type": "markdown",
   "metadata": {},
   "source": [
    "## Mapping Options"
   ]
  },
  {
   "cell_type": "markdown",
   "metadata": {},
   "source": [
    "### Creating Basemap with folium"
   ]
  },
  {
   "cell_type": "code",
   "execution_count": 311,
   "metadata": {},
   "outputs": [
    {
     "data": {
      "text/html": [
       "<div style=\"width:100%;\"><div style=\"position:relative;width:100%;height:0;padding-bottom:60%;\"><iframe src=\"data:text/html;charset=utf-8;base64,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\" style=\"position:absolute;width:100%;height:100%;left:0;top:0;border:none !important;\" allowfullscreen webkitallowfullscreen mozallowfullscreen></iframe></div></div>"
      ],
      "text/plain": [
       "<folium.folium.Map at 0x13a1fbe50>"
      ]
     },
     "execution_count": 311,
     "metadata": {},
     "output_type": "execute_result"
    }
   ],
   "source": [
    "#folium\n",
    "m = folium.Map(\n",
    "    location=[40.772,-73.9972],\n",
    "    zoom_start=11,\n",
    "    tiles='Stamen Terrain') \n",
    "# folium.GeoJson(\n",
    "#     sjson,\n",
    "#     name='geojson',\n",
    "#     style_function=lambda feature: {\n",
    "    \n",
    "#     }\n",
    "# ).add_to(m)\n",
    "# folium.GeoJson(\n",
    "#     rjson,\n",
    "#     name='geojson',\n",
    "#     style_function=lambda feature: {\n",
    "#         'color':'black' #rjson['route_color']\n",
    "#     }\n",
    "# ).add_to(m)\n",
    "folium.GeoJson(\n",
    "    shape_routes,\n",
    ")\n",
    "\n",
    "m"
   ]
  },
  {
   "cell_type": "code",
   "execution_count": 301,
   "metadata": {
    "scrolled": true
   },
   "outputs": [
    {
     "data": {
      "text/html": [
       "<div style=\"width:100%;\"><div style=\"position:relative;width:100%;height:0;padding-bottom:60%;\"><iframe src=\"data:text/html;charset=utf-8;base64,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\" style=\"position:absolute;width:100%;height:100%;left:0;top:0;border:none !important;\" allowfullscreen webkitallowfullscreen mozallowfullscreen></iframe></div></div>"
      ],
      "text/plain": [
       "<folium.folium.Map at 0x13a9295b0>"
      ]
     },
     "execution_count": 301,
     "metadata": {},
     "output_type": "execute_result"
    }
   ],
   "source": [
    "m = folium.Map(\n",
    "    location=[40.772,-73.9972],\n",
    "    zoom_start=11,\n",
    "    tiles='OpenStreetMap')\n",
    "folium.Choropleth(\n",
    "    shape_routes[shape_routes.geometry.length>0.001],\n",
    "    columns=['route_id','route_color'],\n",
    "    key_on='feature.properties.name',\n",
    "    line_weight=3,\n",
    "    line_color='blue',\n",
    "    highlight = True,\n",
    ").add_to(m)\n",
    "folium.Choropleth(\n",
    "    stops_gdf,\n",
    "    columns=['route_id'],\n",
    "    key_on='feature.properties.name',\n",
    ").add_to(m)\n",
    "m"
   ]
  },
  {
   "cell_type": "code",
   "execution_count": 291,
   "metadata": {
    "collapsed": true
   },
   "outputs": [
    {
     "name": "stdout",
     "output_type": "stream",
     "text": [
      "<class 'geopandas.geodataframe.GeoDataFrame'>\n",
      "Int64Index: 9 entries, 0 to 8\n",
      "Data columns (total 14 columns):\n",
      " #   Column            Non-Null Count  Dtype   \n",
      "---  ------            --------------  -----   \n",
      " 0   shape_id          9 non-null      int64   \n",
      " 1   geometry          9 non-null      geometry\n",
      " 2   route_id          9 non-null      object  \n",
      " 3   service_id        9 non-null      float64 \n",
      " 4   trip_id           9 non-null      float64 \n",
      " 5   trip_headsign     9 non-null      object  \n",
      " 6   direction_id      9 non-null      float64 \n",
      " 7   block_id          9 non-null      float64 \n",
      " 8   agency_id         9 non-null      int64   \n",
      " 9   route_short_name  9 non-null      object  \n",
      " 10  route_long_name   9 non-null      object  \n",
      " 11  route_type        9 non-null      int64   \n",
      " 12  route_color       9 non-null      object  \n",
      " 13  route_text_color  9 non-null      object  \n",
      "dtypes: float64(4), geometry(1), int64(3), object(6)\n",
      "memory usage: 1.1+ KB\n"
     ]
    }
   ],
   "source": [
    "shape_routes.info()"
   ]
  },
  {
   "cell_type": "markdown",
   "metadata": {},
   "source": [
    "### Assigning colors and stuff"
   ]
  },
  {
   "cell_type": "code",
   "execution_count": null,
   "metadata": {},
   "outputs": [],
   "source": []
  }
 ],
 "metadata": {
  "kernelspec": {
   "display_name": "Python 3",
   "language": "python",
   "name": "python3"
  },
  "language_info": {
   "codemirror_mode": {
    "name": "ipython",
    "version": 3
   },
   "file_extension": ".py",
   "mimetype": "text/x-python",
   "name": "python",
   "nbconvert_exporter": "python",
   "pygments_lexer": "ipython3",
   "version": "3.8.2"
  }
 },
 "nbformat": 4,
 "nbformat_minor": 4
}
