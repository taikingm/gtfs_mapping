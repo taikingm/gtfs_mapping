{
 "cells": [
  {
   "cell_type": "code",
   "execution_count": 1,
   "metadata": {},
   "outputs": [],
   "source": [
    "from IPython.display import IFrame\n",
    "import pandas as pd\n",
    "import geopandas as gpd\n",
    "import matplotlib.pyplot as plt\n",
    "import numpy as np\n",
    "import matplotlib.patches as patches\n",
    "import warnings\n",
    "import matplotlib.cm as cm\n",
    "import matplotlib.colors as colors\n",
    "\n",
    "from IPython.display import IFrame\n",
    "from shapely.geometry import Point, LineString, shape\n",
    "\n",
    "\n",
    "%matplotlib inline\n",
    "%load_ext autoreload\n",
    "%autoreload 2"
   ]
  },
  {
   "cell_type": "code",
   "execution_count": 2,
   "metadata": {
    "scrolled": true
   },
   "outputs": [],
   "source": [
    "import folium"
   ]
  },
  {
   "cell_type": "code",
   "execution_count": 3,
   "metadata": {},
   "outputs": [
    {
     "ename": "ModuleNotFoundError",
     "evalue": "No module named 'bokeh'",
     "output_type": "error",
     "traceback": [
      "\u001b[0;31m---------------------------------------------------------------------------\u001b[0m",
      "\u001b[0;31mModuleNotFoundError\u001b[0m                       Traceback (most recent call last)",
      "\u001b[0;32m<ipython-input-3-ff3304fecce4>\u001b[0m in \u001b[0;36m<module>\u001b[0;34m\u001b[0m\n\u001b[0;32m----> 1\u001b[0;31m \u001b[0;32mfrom\u001b[0m \u001b[0mbokeh\u001b[0m\u001b[0;34m.\u001b[0m\u001b[0mplotting\u001b[0m \u001b[0;32mimport\u001b[0m \u001b[0mfigure\u001b[0m\u001b[0;34m,\u001b[0m \u001b[0moutput_file\u001b[0m\u001b[0;34m,\u001b[0m \u001b[0mshow\u001b[0m\u001b[0;34m,\u001b[0m \u001b[0moutput_notebook\u001b[0m\u001b[0;34m\u001b[0m\u001b[0;34m\u001b[0m\u001b[0m\n\u001b[0m",
      "\u001b[0;31mModuleNotFoundError\u001b[0m: No module named 'bokeh'"
     ]
    }
   ],
   "source": [
    "from bokeh.plotting import figure, output_file, show, output_notebook"
   ]
  },
  {
   "cell_type": "code",
   "execution_count": 4,
   "metadata": {},
   "outputs": [],
   "source": [
    "from shapely.geometry import Point, Polygon"
   ]
  },
  {
   "cell_type": "markdown",
   "metadata": {},
   "source": [
    "# Testing Out GTFS Data Visualization using NYC Ferry GTFS\n",
    "## NYC Ferry GTFS Contains:\n",
    "- agency.txt\n",
    "- routes.txt\n",
    "- shapes.txt\n",
    "- stops.txt\n",
    "- trips.txt\n",
    "\n",
    "With the above files from any GTFS data, I should be able to produce a quick transit map of any city which produces GTFS data.\n",
    "Reding in all data here:"
   ]
  },
  {
   "cell_type": "code",
   "execution_count": 5,
   "metadata": {},
   "outputs": [],
   "source": [
    "#Read in all necessary data from GTFS folder\n",
    "agency = pd.read_csv('ferry_gtfs/agency.txt')\n",
    "routes = pd.read_csv('ferry_gtfs/routes.txt')\n",
    "shapes = pd.read_csv('ferry_gtfs/shapes.txt')\n",
    "stops = pd.read_csv('ferry_gtfs/stops.txt')\n",
    "trips = pd.read_csv('ferry_gtfs/trips.txt')"
   ]
  },
  {
   "cell_type": "markdown",
   "metadata": {},
   "source": [
    "\n",
    "\n",
    "\n",
    "## Mapping the Stops\n",
    "GTFS Data contains coordinates for stops along all the lines."
   ]
  },
  {
   "cell_type": "code",
   "execution_count": 6,
   "metadata": {},
   "outputs": [],
   "source": [
    "#read in stops as gdf\n",
    "stops_gdf = gpd.GeoDataFrame(\n",
    "    stops,\n",
    "    crs=4326,\n",
    "    geometry = gpd.points_from_xy(stops.stop_lon, stops.stop_lat)\n",
    ")"
   ]
  },
  {
   "cell_type": "code",
   "execution_count": 7,
   "metadata": {},
   "outputs": [
    {
     "name": "stdout",
     "output_type": "stream",
     "text": [
      "<class 'geopandas.geodataframe.GeoDataFrame'>\n",
      "RangeIndex: 48 entries, 0 to 47\n",
      "Data columns (total 6 columns):\n",
      " #   Column     Non-Null Count  Dtype   \n",
      "---  ------     --------------  -----   \n",
      " 0   stop_id    48 non-null     int64   \n",
      " 1   stop_code  15 non-null     float64 \n",
      " 2   stop_name  48 non-null     object  \n",
      " 3   stop_lat   48 non-null     float64 \n",
      " 4   stop_lon   48 non-null     float64 \n",
      " 5   geometry   48 non-null     geometry\n",
      "dtypes: float64(3), geometry(1), int64(1), object(1)\n",
      "memory usage: 2.4+ KB\n"
     ]
    }
   ],
   "source": [
    "stops_gdf.info()"
   ]
  },
  {
   "cell_type": "markdown",
   "metadata": {},
   "source": [
    "### Getting The centroid of points"
   ]
  },
  {
   "cell_type": "code",
   "execution_count": 8,
   "metadata": {
    "scrolled": true
   },
   "outputs": [],
   "source": [
    "# Create Points from Polygons\n",
    "stop_poly = gpd.GeoDataFrame(stops,geometry='geometry')"
   ]
  },
  {
   "cell_type": "code",
   "execution_count": 9,
   "metadata": {},
   "outputs": [],
   "source": [
    "stop_poly['point'] = '1'"
   ]
  },
  {
   "cell_type": "code",
   "execution_count": 10,
   "metadata": {},
   "outputs": [
    {
     "data": {
      "text/html": [
       "<div>\n",
       "<style scoped>\n",
       "    .dataframe tbody tr th:only-of-type {\n",
       "        vertical-align: middle;\n",
       "    }\n",
       "\n",
       "    .dataframe tbody tr th {\n",
       "        vertical-align: top;\n",
       "    }\n",
       "\n",
       "    .dataframe thead th {\n",
       "        text-align: right;\n",
       "    }\n",
       "</style>\n",
       "<table border=\"1\" class=\"dataframe\">\n",
       "  <thead>\n",
       "    <tr style=\"text-align: right;\">\n",
       "      <th></th>\n",
       "      <th>stop_id</th>\n",
       "      <th>stop_code</th>\n",
       "      <th>stop_name</th>\n",
       "      <th>stop_lat</th>\n",
       "      <th>stop_lon</th>\n",
       "      <th>geometry</th>\n",
       "      <th>point</th>\n",
       "    </tr>\n",
       "  </thead>\n",
       "  <tbody>\n",
       "    <tr>\n",
       "      <th>42</th>\n",
       "      <td>112</td>\n",
       "      <td>NaN</td>\n",
       "      <td>Soundview</td>\n",
       "      <td>40.804117</td>\n",
       "      <td>-73.848933</td>\n",
       "      <td>POINT (-73.84893 40.80412)</td>\n",
       "      <td>1</td>\n",
       "    </tr>\n",
       "  </tbody>\n",
       "</table>\n",
       "</div>"
      ],
      "text/plain": [
       "    stop_id  stop_code  stop_name   stop_lat   stop_lon  \\\n",
       "42      112        NaN  Soundview  40.804117 -73.848933   \n",
       "\n",
       "                      geometry point  \n",
       "42  POINT (-73.84893 40.80412)     1  "
      ]
     },
     "execution_count": 10,
     "metadata": {},
     "output_type": "execute_result"
    }
   ],
   "source": [
    "stop_poly.sample()"
   ]
  },
  {
   "cell_type": "code",
   "execution_count": 11,
   "metadata": {},
   "outputs": [],
   "source": [
    "stop_poly['geometry'] = stop_poly['geometry'].apply(lambda x: x.coords[0])"
   ]
  },
  {
   "cell_type": "code",
   "execution_count": 12,
   "metadata": {},
   "outputs": [],
   "source": [
    "stop_poly = stop_poly.groupby('point')['geometry'].apply(lambda x: Polygon(x.tolist())).reset_index()"
   ]
  },
  {
   "cell_type": "code",
   "execution_count": 13,
   "metadata": {},
   "outputs": [],
   "source": [
    "stop_poly = gpd.GeoDataFrame(stop_poly, geometry='geometry')"
   ]
  },
  {
   "cell_type": "code",
   "execution_count": 14,
   "metadata": {},
   "outputs": [
    {
     "data": {
      "text/plain": [
       "<matplotlib.axes._subplots.AxesSubplot at 0x120a736d0>"
      ]
     },
     "execution_count": 14,
     "metadata": {},
     "output_type": "execute_result"
    },
    {
     "data": {
      "image/png": "[encoded data removed]",
      "text/plain": [
       "<Figure size 432x288 with 1 Axes>"
      ]
     },
     "metadata": {
      "needs_background": "light"
     },
     "output_type": "display_data"
    }
   ],
   "source": [
    "stop_poly.plot()"
   ]
  },
  {
   "cell_type": "code",
   "execution_count": 111,
   "metadata": {},
   "outputs": [],
   "source": [
    "stop_centroid = stop_poly.centroid"
   ]
  },
  {
   "cell_type": "code",
   "execution_count": 112,
   "metadata": {},
   "outputs": [],
   "source": [
    "stt = stop_centroid"
   ]
  },
  {
   "cell_type": "code",
   "execution_count": 125,
   "metadata": {},
   "outputs": [],
   "source": [
    "sttt = gpd.GeoDataFrame(\n",
    "    stt,\n",
    "    crs=4326,\n",
    "    geometry=stt\n",
    ")"
   ]
  },
  {
   "cell_type": "code",
   "execution_count": 126,
   "metadata": {},
   "outputs": [
    {
     "data": {
      "text/html": [
       "<div>\n",
       "<style scoped>\n",
       "    .dataframe tbody tr th:only-of-type {\n",
       "        vertical-align: middle;\n",
       "    }\n",
       "\n",
       "    .dataframe tbody tr th {\n",
       "        vertical-align: top;\n",
       "    }\n",
       "\n",
       "    .dataframe thead th {\n",
       "        text-align: right;\n",
       "    }\n",
       "</style>\n",
       "<table border=\"1\" class=\"dataframe\">\n",
       "  <thead>\n",
       "    <tr style=\"text-align: right;\">\n",
       "      <th></th>\n",
       "      <th>0</th>\n",
       "      <th>geometry</th>\n",
       "    </tr>\n",
       "  </thead>\n",
       "  <tbody>\n",
       "    <tr>\n",
       "      <th>0</th>\n",
       "      <td>POINT (-73.92894 40.67389)</td>\n",
       "      <td>POINT (-73.92894 40.67389)</td>\n",
       "    </tr>\n",
       "  </tbody>\n",
       "</table>\n",
       "</div>"
      ],
      "text/plain": [
       "                            0                    geometry\n",
       "0  POINT (-73.92894 40.67389)  POINT (-73.92894 40.67389)"
      ]
     },
     "execution_count": 126,
     "metadata": {},
     "output_type": "execute_result"
    }
   ],
   "source": [
    "sttt.head()"
   ]
  },
  {
   "cell_type": "code",
   "execution_count": 127,
   "metadata": {},
   "outputs": [
    {
     "data": {
      "text/plain": [
       "<matplotlib.axes._subplots.AxesSubplot at 0x12dcb7cd0>"
      ]
     },
     "execution_count": 127,
     "metadata": {},
     "output_type": "execute_result"
    },
    {
     "data": {
      "image/png": "[encoded data removed]",
      "text/plain": [
       "<Figure size 432x288 with 1 Axes>"
      ]
     },
     "metadata": {
      "needs_background": "light"
     },
     "output_type": "display_data"
    }
   ],
   "source": [
    "sttt.plot()"
   ]
  },
  {
   "cell_type": "code",
   "execution_count": 131,
   "metadata": {},
   "outputs": [],
   "source": [
    "tss = list(sttt['geometry'])"
   ]
  },
  {
   "cell_type": "code",
   "execution_count": 132,
   "metadata": {},
   "outputs": [
    {
     "data": {
      "text/plain": [
       "[<shapely.geometry.point.Point at 0x12dce27f0>]"
      ]
     },
     "execution_count": 132,
     "metadata": {},
     "output_type": "execute_result"
    }
   ],
   "source": [
    "tss"
   ]
  },
  {
   "cell_type": "markdown",
   "metadata": {},
   "source": [
    "### Stop Colors?"
   ]
  },
  {
   "cell_type": "markdown",
   "metadata": {},
   "source": [
    "\n",
    "\n",
    "## Mapping the Routes"
   ]
  },
  {
   "cell_type": "markdown",
   "metadata": {},
   "source": [
    "In order to map out the routes in a line, first I will need to convert points from shape.txt, merge routes.txt for route name and other info."
   ]
  },
  {
   "cell_type": "code",
   "execution_count": 16,
   "metadata": {
    "scrolled": true
   },
   "outputs": [],
   "source": [
    "# Create GeoDataFrame from Shapes.txt\n",
    "shapes_gdf = gpd.GeoDataFrame(\n",
    "    shapes,\n",
    "    crs=4326,\n",
    "    geometry = gpd.points_from_xy(shapes.shape_pt_lon, shapes.shape_pt_lat)\n",
    ")\n"
   ]
  },
  {
   "cell_type": "code",
   "execution_count": 17,
   "metadata": {},
   "outputs": [],
   "source": [
    "# Create Linestring out of shape_id and shape_pt_sequence\n",
    "shapes_gdf = shapes_gdf.groupby(['shape_id'])['geometry'].apply(lambda x: LineString(x.tolist()))\n"
   ]
  },
  {
   "cell_type": "code",
   "execution_count": 18,
   "metadata": {},
   "outputs": [],
   "source": [
    "shapes_gdf = gpd.GeoDataFrame(shapes_gdf, geometry='geometry')\n"
   ]
  },
  {
   "cell_type": "code",
   "execution_count": 19,
   "metadata": {},
   "outputs": [],
   "source": [
    "#keeping trips info only for each trips to take out trip_id\n",
    "trips_drop = trips.drop_duplicates(subset=['shape_id'])"
   ]
  },
  {
   "cell_type": "code",
   "execution_count": 20,
   "metadata": {},
   "outputs": [],
   "source": [
    "#merging trip_id on to shapes in order to merge into route.txt\n",
    "shape_merge = shapes_gdf.merge(trips_drop,left_on='shape_id', right_on='shape_id', how='outer')"
   ]
  },
  {
   "cell_type": "code",
   "execution_count": 21,
   "metadata": {},
   "outputs": [],
   "source": [
    "#dropping duplicate shapes to simplify route for this test\n",
    "shape_merge = shape_merge.drop_duplicates(subset=['route_id'])"
   ]
  },
  {
   "cell_type": "code",
   "execution_count": 22,
   "metadata": {},
   "outputs": [],
   "source": [
    "#Route lines merged with name, routes.txt\n",
    "shape_routes = shape_merge.merge(routes, left_on='route_id', right_on='route_id', how='inner')"
   ]
  },
  {
   "cell_type": "code",
   "execution_count": 23,
   "metadata": {},
   "outputs": [
    {
     "name": "stderr",
     "output_type": "stream",
     "text": [
      "/Applications/anaconda3/envs/mapping/lib/python3.8/site-packages/pyproj/crs/crs.py:53: FutureWarning: '+init=<authority>:<code>' syntax is deprecated. '<authority>:<code>' is the preferred initialization method. When making the change, be mindful of axis order changes: https://pyproj4.github.io/pyproj/stable/gotchas.html#axis-order-changes-in-proj-6\n",
      "  return _prepare_from_string(\" \".join(pjargs))\n"
     ]
    }
   ],
   "source": [
    "shape_routes.crs = {'init' :'epsg:4326'}"
   ]
  },
  {
   "cell_type": "markdown",
   "metadata": {},
   "source": [
    "## Preparing datasets to publish on a map"
   ]
  },
  {
   "cell_type": "markdown",
   "metadata": {},
   "source": [
    "### Converting files into GeoJson"
   ]
  },
  {
   "cell_type": "code",
   "execution_count": 24,
   "metadata": {},
   "outputs": [],
   "source": [
    "#stops, convert to 4326 in case it was in some other format\n",
    "sjson = stops_gdf.to_json()"
   ]
  },
  {
   "cell_type": "code",
   "execution_count": 25,
   "metadata": {
    "scrolled": false
   },
   "outputs": [
    {
     "name": "stdout",
     "output_type": "stream",
     "text": [
      "<class 'geopandas.geodataframe.GeoDataFrame'>\n",
      "RangeIndex: 48 entries, 0 to 47\n",
      "Data columns (total 7 columns):\n",
      " #   Column     Non-Null Count  Dtype   \n",
      "---  ------     --------------  -----   \n",
      " 0   stop_id    48 non-null     int64   \n",
      " 1   stop_code  15 non-null     float64 \n",
      " 2   stop_name  48 non-null     object  \n",
      " 3   stop_lat   48 non-null     float64 \n",
      " 4   stop_lon   48 non-null     float64 \n",
      " 5   geometry   48 non-null     geometry\n",
      " 6   point      48 non-null     object  \n",
      "dtypes: float64(3), geometry(1), int64(1), object(2)\n",
      "memory usage: 2.8+ KB\n"
     ]
    }
   ],
   "source": [
    "stops_gdf.info()"
   ]
  },
  {
   "cell_type": "code",
   "execution_count": 68,
   "metadata": {},
   "outputs": [
    {
     "data": {
      "text/html": [
       "<div>\n",
       "<style scoped>\n",
       "    .dataframe tbody tr th:only-of-type {\n",
       "        vertical-align: middle;\n",
       "    }\n",
       "\n",
       "    .dataframe tbody tr th {\n",
       "        vertical-align: top;\n",
       "    }\n",
       "\n",
       "    .dataframe thead th {\n",
       "        text-align: right;\n",
       "    }\n",
       "</style>\n",
       "<table border=\"1\" class=\"dataframe\">\n",
       "  <thead>\n",
       "    <tr style=\"text-align: right;\">\n",
       "      <th></th>\n",
       "      <th>shape_id</th>\n",
       "      <th>geometry</th>\n",
       "      <th>route_id</th>\n",
       "      <th>service_id</th>\n",
       "      <th>trip_id</th>\n",
       "      <th>trip_headsign</th>\n",
       "      <th>direction_id</th>\n",
       "      <th>block_id</th>\n",
       "      <th>agency_id</th>\n",
       "      <th>route_short_name</th>\n",
       "      <th>route_long_name</th>\n",
       "      <th>route_type</th>\n",
       "      <th>route_color</th>\n",
       "      <th>route_text_color</th>\n",
       "    </tr>\n",
       "  </thead>\n",
       "  <tbody>\n",
       "    <tr>\n",
       "      <th>0</th>\n",
       "      <td>4</td>\n",
       "      <td>LINESTRING (-73.87270 40.56614, -73.87140 40.5...</td>\n",
       "      <td>RWS</td>\n",
       "      <td>2.0</td>\n",
       "      <td>173.0</td>\n",
       "      <td>Rockaway</td>\n",
       "      <td>0.0</td>\n",
       "      <td>201.0</td>\n",
       "      <td>1</td>\n",
       "      <td>RWS</td>\n",
       "      <td>Rockaway West</td>\n",
       "      <td>3</td>\n",
       "      <td>00A1E1</td>\n",
       "      <td>FFFFFF</td>\n",
       "    </tr>\n",
       "    <tr>\n",
       "      <th>1</th>\n",
       "      <td>7</td>\n",
       "      <td>LINESTRING (-73.83127 40.58416, -73.83609 40.5...</td>\n",
       "      <td>RW</td>\n",
       "      <td>2.0</td>\n",
       "      <td>61.0</td>\n",
       "      <td>Wall St./Pier 11</td>\n",
       "      <td>1.0</td>\n",
       "      <td>22.0</td>\n",
       "      <td>1</td>\n",
       "      <td>RW</td>\n",
       "      <td>Rockaway</td>\n",
       "      <td>4</td>\n",
       "      <td>B218AA</td>\n",
       "      <td>FFFFFF</td>\n",
       "    </tr>\n",
       "  </tbody>\n",
       "</table>\n",
       "</div>"
      ],
      "text/plain": [
       "   shape_id                                           geometry route_id  \\\n",
       "0         4  LINESTRING (-73.87270 40.56614, -73.87140 40.5...      RWS   \n",
       "1         7  LINESTRING (-73.83127 40.58416, -73.83609 40.5...       RW   \n",
       "\n",
       "   service_id  trip_id     trip_headsign  direction_id  block_id  agency_id  \\\n",
       "0         2.0    173.0          Rockaway           0.0     201.0          1   \n",
       "1         2.0     61.0  Wall St./Pier 11           1.0      22.0          1   \n",
       "\n",
       "  route_short_name route_long_name  route_type route_color route_text_color  \n",
       "0              RWS   Rockaway West           3      00A1E1           FFFFFF  \n",
       "1               RW        Rockaway           4      B218AA           FFFFFF  "
      ]
     },
     "execution_count": 68,
     "metadata": {},
     "output_type": "execute_result"
    }
   ],
   "source": [
    "shape_routes.head(2)"
   ]
  },
  {
   "cell_type": "code",
   "execution_count": 62,
   "metadata": {},
   "outputs": [],
   "source": [
    "rjson = shape_routes.to_json()"
   ]
  },
  {
   "cell_type": "markdown",
   "metadata": {},
   "source": [
    "### Getting the centroid of the stops for starting point of the map"
   ]
  },
  {
   "cell_type": "markdown",
   "metadata": {},
   "source": [
    "## Mapping Options"
   ]
  },
  {
   "cell_type": "markdown",
   "metadata": {},
   "source": [
    "### Creating Basemap with folium"
   ]
  },
  {
   "cell_type": "code",
   "execution_count": 77,
   "metadata": {},
   "outputs": [
    {
     "ename": "TypeError",
     "evalue": "__init__() got an unexpected keyword argument 'highlight'",
     "output_type": "error",
     "traceback": [
      "\u001b[0;31m---------------------------------------------------------------------------\u001b[0m",
      "\u001b[0;31mTypeError\u001b[0m                                 Traceback (most recent call last)",
      "\u001b[0;32m<ipython-input-77-015946769597>\u001b[0m in \u001b[0;36m<module>\u001b[0;34m\u001b[0m\n\u001b[1;32m      8\u001b[0m     \u001b[0;32mreturn\u001b[0m\u001b[0;34m{\u001b[0m\u001b[0;34m'color'\u001b[0m\u001b[0;34m:\u001b[0m \u001b[0mfeatures\u001b[0m\u001b[0;34m[\u001b[0m\u001b[0;34m'properties'\u001b[0m\u001b[0;34m]\u001b[0m\u001b[0;34m[\u001b[0m\u001b[0;34m'route_color'\u001b[0m\u001b[0;34m]\u001b[0m\u001b[0;34m}\u001b[0m\u001b[0;34m\u001b[0m\u001b[0;34m\u001b[0m\u001b[0m\n\u001b[1;32m      9\u001b[0m \u001b[0;34m\u001b[0m\u001b[0m\n\u001b[0;32m---> 10\u001b[0;31m folium.GeoJson(\n\u001b[0m\u001b[1;32m     11\u001b[0m     \u001b[0mrjson\u001b[0m\u001b[0;34m,\u001b[0m\u001b[0;34m\u001b[0m\u001b[0;34m\u001b[0m\u001b[0m\n\u001b[1;32m     12\u001b[0m     \u001b[0mname\u001b[0m\u001b[0;34m=\u001b[0m \u001b[0;34m'Routes'\u001b[0m\u001b[0;34m,\u001b[0m\u001b[0;34m\u001b[0m\u001b[0;34m\u001b[0m\u001b[0m\n",
      "\u001b[0;31mTypeError\u001b[0m: __init__() got an unexpected keyword argument 'highlight'"
     ]
    }
   ],
   "source": [
    "#folium\n",
    "m = folium.Map(\n",
    "    location=[40.772,-73.9972],\n",
    "    zoom_start=11,\n",
    "    tiles='cartodbpositron') \n",
    "\n",
    "def style_geojson(features):\n",
    "    return{'color': features['properties']['route_color']}\n",
    "\n",
    "folium.GeoJson(\n",
    "    rjson,\n",
    "    name= 'Routes',\n",
    "    #style_function=style_geojson,\n",
    ").add_to(m)\n",
    "folium.GeoJson(\n",
    "    sjson\n",
    ")\n",
    "m"
   ]
  },
  {
   "cell_type": "code",
   "execution_count": null,
   "metadata": {},
   "outputs": [],
   "source": []
  },
  {
   "cell_type": "code",
   "execution_count": 41,
   "metadata": {},
   "outputs": [
    {
     "data": {
      "text/html": [
       "<div style=\"width:100%;\"><div style=\"position:relative;width:100%;height:0;padding-bottom:60%;\"><span style=\"color:#565656\">Make this Notebook Trusted to load map: File -> Trust Notebook</span><iframe src=\"about:blank\" style=\"position:absolute;width:100%;height:100%;left:0;top:0;border:none !important;\" data-html=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 onload=\"this.contentDocument.open();this.contentDocument.write(atob(this.getAttribute('data-html')));this.contentDocument.close();\" allowfullscreen webkitallowfullscreen mozallowfullscreen></iframe></div></div>"
      ],
      "text/plain": [
       "<folium.folium.Map at 0x12b097a30>"
      ]
     },
     "execution_count": 41,
     "metadata": {},
     "output_type": "execute_result"
    }
   ],
   "source": [
    "m = folium.Map(\n",
    "    location=[40.772,-73.9972],\n",
    "    zoom_start=11,\n",
    "    tiles='cartodbpositron')\n",
    "folium.Choropleth(\n",
    "    shape_routes[shape_routes.geometry.length>0.001],\n",
    "    columns=['route_id','route_color'],\n",
    "    key_on='feature.properties.name',\n",
    "    line_weight=3,\n",
    "    line_color='blue',\n",
    "    highlight = True,\n",
    ").add_to(m)\n",
    "folium.Choropleth(\n",
    "    stops_gdf,\n",
    "    columns=['route_id'],\n",
    "    key_on='feature.properties.name',\n",
    ").add_to(m)\n",
    "m"
   ]
  },
  {
   "cell_type": "code",
   "execution_count": 33,
   "metadata": {},
   "outputs": [
    {
     "name": "stdout",
     "output_type": "stream",
     "text": [
      "<class 'geopandas.geodataframe.GeoDataFrame'>\n",
      "Int64Index: 9 entries, 0 to 8\n",
      "Data columns (total 14 columns):\n",
      " #   Column            Non-Null Count  Dtype   \n",
      "---  ------            --------------  -----   \n",
      " 0   shape_id          9 non-null      int64   \n",
      " 1   geometry          9 non-null      geometry\n",
      " 2   route_id          9 non-null      object  \n",
      " 3   service_id        9 non-null      float64 \n",
      " 4   trip_id           9 non-null      float64 \n",
      " 5   trip_headsign     9 non-null      object  \n",
      " 6   direction_id      9 non-null      float64 \n",
      " 7   block_id          9 non-null      float64 \n",
      " 8   agency_id         9 non-null      int64   \n",
      " 9   route_short_name  9 non-null      object  \n",
      " 10  route_long_name   9 non-null      object  \n",
      " 11  route_type        9 non-null      int64   \n",
      " 12  route_color       9 non-null      object  \n",
      " 13  route_text_color  9 non-null      object  \n",
      "dtypes: float64(4), geometry(1), int64(3), object(6)\n",
      "memory usage: 1.1+ KB\n"
     ]
    }
   ],
   "source": [
    "shape_routes.info()"
   ]
  },
  {
   "cell_type": "markdown",
   "metadata": {},
   "source": [
    "### Assigning colors and stuff"
   ]
  },
  {
   "cell_type": "code",
   "execution_count": null,
   "metadata": {},
   "outputs": [],
   "source": []
  }
 ],
 "metadata": {
  "kernelspec": {
   "display_name": "Python 3",
   "language": "python",
   "name": "python3"
  },
  "language_info": {
   "codemirror_mode": {
    "name": "ipython",
    "version": 3
   },
   "file_extension": ".py",
   "mimetype": "text/x-python",
   "name": "python",
   "nbconvert_exporter": "python",
   "pygments_lexer": "ipython3",
   "version": "3.8.2"
  }
 },
 "nbformat": 4,
 "nbformat_minor": 4
}
